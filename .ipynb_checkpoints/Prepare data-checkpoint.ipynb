{
 "cells": [
  {
   "cell_type": "markdown",
   "metadata": {},
   "source": [
    "# Prepare data files\n",
    "\n",
    "This notebook arranges the data files into the appropriate structure for running the keras model. It also splits the data into training and validation sets as well as creates a small sample set for quick testing.\n",
    "\n",
    "Keras requires the data to be split into separate directories for each class so in each data set folder, there will be a `dog/` folder containting all images of the dog class and a `cat/` folder containing all images of the cat class.\n",
    "\n",
    "All in all the following folders will be created:\n",
    "\n",
    "    data/train/cat/\n",
    "    data/train/dog/\n",
    "    data/valid/cat/\n",
    "    data/valid/dog/\n",
    "    data/sample/train/cat/\n",
    "    data/sample/train/dog/\n",
    "    data/sample/valid/cat/\n",
    "    data/sample/valid/dog/\n",
    "    \n",
    "The code assumes that the data is downloaded correctly from the Kaggle cats vs. dogs redux competition and stored in a folder called `data/`. Only the training data will be manipulated and it should start off in `data/train/`"
   ]
  },
  {
   "cell_type": "code",
   "execution_count": 27,
   "metadata": {
    "collapsed": true
   },
   "outputs": [],
   "source": [
    "import os\n",
    "import glob\n",
    "import shutil\n",
    "import math\n",
    "import numpy as np"
   ]
  },
  {
   "cell_type": "markdown",
   "metadata": {},
   "source": [
    "Create the `sample/` folder and initialize it to be a smaller version of the current `data/` folder (i.e. an equal mix of cat and dog files in a subfolder call `train/`. This will allow us to reuse the code that prepares the main files on the sample files."
   ]
  },
  {
   "cell_type": "code",
   "execution_count": 112,
   "metadata": {
    "collapsed": false
   },
   "outputs": [],
   "source": [
    "# WARNING: If you already have files in the data/sample/train folder, this cell will \n",
    "#          permanently delete those files\n",
    "\n",
    "sample_folder = 'data/sample/train'\n",
    "if os.path.exists(sample_folder):\n",
    "    #Delete the files\n",
    "    shutil.rmtree(sample_folder)    \n",
    "os.makedirs(sample_folder)\n",
    "\n",
    "sample_size = 100\n",
    "sample_size = int(math.ceil(sample_size/2.)*2) #i.e. force sample_size to be even\n",
    "files_cat = np.random.choice(glob.glob('data/train/cat*'),size=sample_size/2,replace=False)\n",
    "files_dog = np.random.choice(glob.glob('data/train/dog*'),size=sample_size/2,replace=False)\n",
    "for source_file in np.concatenate((files_cat,files_dog)):\n",
    "    shutil.copy2(source_file,sample_folder)"
   ]
  },
  {
   "cell_type": "code",
   "execution_count": 113,
   "metadata": {
    "collapsed": false
   },
   "outputs": [],
   "source": [
    "def split_train_valid(path,train_size):\n",
    "    '''\n",
    "    path is a directory containing cat and dog files in equal proportion\n",
    "    train_size is the percentage of samples to be assigned as training samples. It is a float between 0 and 1\n",
    "    '''\n",
    "    path_train = os.path.join(path,'train')\n",
    "    path_valid = os.path.join(path,'valid')\n",
    "    if os.path.exists(path_valid):\n",
    "        print(\"WARNING: There is already a folder named valid in this path. This function should only be run if the folder is in the correct initial state as specified at the beginning of the notebook.\")\n",
    "    else:\n",
    "        os.makedirs(path_valid)\n",
    "        m = len([name for name in os.listdir(path_train) if os.path.isfile(os.path.join(path_train, name))])\n",
    "        m_train = math.ceil(m*0.5*train_size)\n",
    "#         m_valid = math.ceil(m*0.5*(1-train_size))\n",
    "\n",
    "        def move_files(target,class_name):\n",
    "            '''\n",
    "            target is 'train' or 'valid'\n",
    "            class_name is 'cat' or 'dog'  (singular)\n",
    "            '''\n",
    "            if target == 'train':\n",
    "                files = np.random.choice(glob.glob('{}/{}*'.format(path_train,class_name)),size=m_train,replace=False)\n",
    "            elif target == 'valid':\n",
    "                files = glob.glob('{}/{}*.jpg'.format(path_train,class_name))\n",
    "            else:\n",
    "                raise ValueError(\"target must be either 'train' or 'valid\")\n",
    "            destination_folder = os.path.join(path,target,''.join([class_name,'s']))\n",
    "            os.makedirs(destination_folder)\n",
    "            for source_file in files:\n",
    "                destination_file = os.path.join(destination_folder,source_file.split('/')[-1])\n",
    "                os.rename(source_file,destination_file)\n",
    "        \n",
    "        move_files('train','cat')\n",
    "        move_files('train','dog')\n",
    "        move_files('valid','cat')\n",
    "        move_files('valid','dog')\n"
   ]
  },
  {
   "cell_type": "code",
   "execution_count": 114,
   "metadata": {
    "collapsed": false
   },
   "outputs": [
    {
     "name": "stderr",
     "output_type": "stream",
     "text": [
      "/home/ubuntu/anaconda2/lib/python2.7/site-packages/ipykernel/__main__.py:22: VisibleDeprecationWarning: using a non-integer number instead of an integer will result in an error in the future\n"
     ]
    }
   ],
   "source": [
    "split_train_valid('data/sample/',0.92)"
   ]
  },
  {
   "cell_type": "code",
   "execution_count": 115,
   "metadata": {
    "collapsed": false
   },
   "outputs": [
    {
     "name": "stderr",
     "output_type": "stream",
     "text": [
      "/home/ubuntu/anaconda2/lib/python2.7/site-packages/ipykernel/__main__.py:22: VisibleDeprecationWarning: using a non-integer number instead of an integer will result in an error in the future\n"
     ]
    }
   ],
   "source": [
    "split_train_valid('data/',0.92)"
   ]
  },
  {
   "cell_type": "code",
   "execution_count": null,
   "metadata": {
    "collapsed": true
   },
   "outputs": [],
   "source": []
  }
 ],
 "metadata": {
  "anaconda-cloud": {},
  "kernelspec": {
   "display_name": "Python [conda root]",
   "language": "python",
   "name": "conda-root-py"
  },
  "language_info": {
   "codemirror_mode": {
    "name": "ipython",
    "version": 2
   },
   "file_extension": ".py",
   "mimetype": "text/x-python",
   "name": "python",
   "nbconvert_exporter": "python",
   "pygments_lexer": "ipython2",
   "version": "2.7.12"
  }
 },
 "nbformat": 4,
 "nbformat_minor": 1
}
